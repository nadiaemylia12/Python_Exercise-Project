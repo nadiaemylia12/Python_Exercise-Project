{
 "cells": [
  {
   "cell_type": "markdown",
   "metadata": {},
   "source": [
    "## Exercise 2"
   ]
  },
  {
   "cell_type": "markdown",
   "metadata": {},
   "source": [
    "The exercises in this notebook are provided to help you develop your analysis skills by\n",
    "giving you the opportunity to practice breaking small problems down into\n",
    "sequences of steps. Also, completing these exercises will help you become\n",
    "familiar with Python’s syntax."
   ]
  },
  {
   "cell_type": "markdown",
   "metadata": {},
   "source": [
    "### 1- Area of a Room in Square Meters\n",
    "\n",
    "- Write a program that asks the user to enter the width and length of a room. Once the values have been read, your program should compute and display the area of the room. The length and the width will be entered as floating point numbers. Include units in your prompt and output message; either feet or meters, depending on which unit you are more comfortable working with.\n",
    "\n",
    "- print(“Area= {0:.2f} square meters\".format(area))"
   ]
  },
  {
   "cell_type": "code",
   "execution_count": 1,
   "metadata": {},
   "outputs": [
    {
     "name": "stdout",
     "output_type": "stream",
     "text": [
      "Enter width in meters=3.5\n",
      "Enter length in meters=4.6\n",
      "Area of a room=16.10 square meters\n"
     ]
    }
   ],
   "source": [
    "width = float(input(\"Enter width in meters=\"))\n",
    "length = float(input(\"Enter length in meters=\"))\n",
    "area = width*length\n",
    "print(\"Area of a room={0:.2f} square meters\".format(area))"
   ]
  },
  {
   "cell_type": "markdown",
   "metadata": {},
   "source": [
    "### 2- Area of a Field in Acre\n",
    "\n",
    "- Create a program that reads the length and width of a farmer’s field from the user in meters. Display the area of the field in acres.\n",
    "- Hint: There are 4046.86 square meters in an acre."
   ]
  },
  {
   "cell_type": "code",
   "execution_count": 2,
   "metadata": {},
   "outputs": [
    {
     "name": "stdout",
     "output_type": "stream",
     "text": [
      "Enter Length in meters=6.8\n",
      "Enter width in meters=9.65\n",
      "Area of a field=0.0162 acres\n"
     ]
    }
   ],
   "source": [
    "length = float(input(\"Enter Length in meters=\"))\n",
    "width = float(input(\"Enter width in meters=\"))\n",
    "area = (width*length)/4046.86\n",
    "print(\"Area of a field={0:.4f} acres\".format(area))"
   ]
  },
  {
   "cell_type": "markdown",
   "metadata": {},
   "source": [
    "### 3- Tax and Tip\n",
    "\n",
    "- The program that you create for this exercise will begin by reading the cost of a meal ordered at a restaurant from the user. Then your program will compute the tax and tip for the meal. Use your local tax rate when computing the amount of tax owing.\n",
    "\n",
    "- Compute the tip as 12 percent of the meal amount (without the tax). The output from your program should include the tax amount, the tip amount, and the grand total for the meal including both the tax and the tip. Format the output so that all of the values are displayed using two decimal places."
   ]
  },
  {
   "cell_type": "code",
   "execution_count": 4,
   "metadata": {},
   "outputs": [
    {
     "name": "stdout",
     "output_type": "stream",
     "text": [
      "Enter cost of meal=RM25\n",
      "Total cost=RM29.50\n",
      "Tax=RM1.50\n",
      "Tip=RM3.00\n"
     ]
    }
   ],
   "source": [
    "meal = float(input(\"Enter cost of meal=RM\"))\n",
    "tax = meal*0.06\n",
    "tip = meal*0.12\n",
    "total = meal+tax+tip\n",
    "print(\"Total cost=RM{0:.2f}\".format(total))\n",
    "print(\"Tax=RM{0:.2f}\".format(tax))\n",
    "print(\"Tip=RM{0:.2f}\".format(tip))"
   ]
  },
  {
   "cell_type": "markdown",
   "metadata": {},
   "source": [
    "### 4- Sum of the First n Positive Integers\n",
    "\n",
    "- Write a program that reads a positive integer, n , from the user and then displays the sum of all of the integers from 1 to n. The sum of the first n  positive integers can be computed using the formula:\n",
    "\n",
    "- sum=n(n+1)/2"
   ]
  },
  {
   "cell_type": "code",
   "execution_count": 5,
   "metadata": {},
   "outputs": [
    {
     "name": "stdout",
     "output_type": "stream",
     "text": [
      "Enter number= 5\n",
      "Sum of the first n=15.0\n"
     ]
    }
   ],
   "source": [
    "# using formula\n",
    "n = abs(int(input(\"Enter number= \")))\n",
    "sum = (n*(n+1))/2\n",
    "print(\"Sum of the first n={}\".format(sum))"
   ]
  },
  {
   "cell_type": "code",
   "execution_count": 6,
   "metadata": {},
   "outputs": [
    {
     "name": "stdout",
     "output_type": "stream",
     "text": [
      "Enter number=5\n",
      "Sum of the first n=15\n"
     ]
    }
   ],
   "source": [
    "# for loop\n",
    "n = abs(int(input(\"Enter number=\")))\n",
    "sum=0\n",
    "for i in range(1,n+1):\n",
    "    sum+=i\n",
    "print(\"Sum of the first n={}\".format(sum))"
   ]
  },
  {
   "cell_type": "markdown",
   "metadata": {},
   "source": [
    "### 5- What Color is that Square?\n",
    "\n",
    "- Write a program that reads a position from the user. Use an if statement to determine if the column begins with a black square or a white square. Then use modular arithmetic to report the color of the square in that row. For example, if the user enters a1 then your program should report that the square is black. If the user enters d5 then your program should report that the square is white. Your program may assume that a valid position will always be entered. It does not need to perform any error checking."
   ]
  },
  {
   "cell_type": "code",
   "execution_count": 9,
   "metadata": {},
   "outputs": [
    {
     "name": "stdout",
     "output_type": "stream",
     "text": [
      "Enter column= d\n",
      "Enter row= 7\n",
      "Column is d Row is 7 Colour is white\n"
     ]
    }
   ],
   "source": [
    "column = (input(\"Enter column= \"))\n",
    "row = int(input(\"Enter row= \"))\n",
    "\n",
    "if column in [\"a\",\"c\",\"e\",\"g\"]:\n",
    "    if row%2!=0:\n",
    "        colour=\"black\"\n",
    "    else:\n",
    "        colour=\"white\"\n",
    "elif column in [\"b\",\"d\",\"f\",\"h\"]:\n",
    "    if row%2!=0:\n",
    "        colour=\"white\"\n",
    "    else:\n",
    "        colour=\"black\"\n",
    "\n",
    "print(\"Column is {} Row is {} Colour is {}\".format(column,row,colour))"
   ]
  },
  {
   "cell_type": "markdown",
   "metadata": {},
   "source": [
    "### 6- Average of odd and even numbers\n",
    "\n",
    "- In this exercise you will create a program that reads in integers until a zero is entered and display average of odd and even numbers.\n",
    "- The user will enter 0 as a sentinel value to indicate that no further values will be provided. Your program should display an appropriate error message if the first value entered by the user is 0.\n",
    "- Hint: Because the 0 marks the end of the input it should not  be included in the average."
   ]
  },
  {
   "cell_type": "code",
   "execution_count": 10,
   "metadata": {},
   "outputs": [
    {
     "name": "stdout",
     "output_type": "stream",
     "text": [
      "Enter number=5\n",
      "Enter number=6\n",
      "Enter number=7\n",
      "Enter number=8\n",
      "Enter number=4\n",
      "Enter number=2\n",
      "Enter number=10\n",
      "Enter number=0\n",
      "Average for even 6.0\n",
      "Average for odd 6.0\n"
     ]
    }
   ],
   "source": [
    "sum_even=0\n",
    "sum_odd=0\n",
    "counter_even=0\n",
    "counter_odd=0\n",
    "\n",
    "while (True):\n",
    "    number = int(input(\"Enter number=\"))\n",
    "    if number==0:\n",
    "        break\n",
    "    elif number%2==0:\n",
    "        sum_even=sum_even+number\n",
    "        counter_even=counter_even+1\n",
    "    else:\n",
    "        number%2!=0\n",
    "        sum_odd=sum_odd+number\n",
    "        counter_odd=counter_odd+1\n",
    "\n",
    "print(\"Average for even {}\".format(sum_even/counter_even))\n",
    "print(\"Average for odd {}\".format(sum_odd/counter_odd))"
   ]
  },
  {
   "cell_type": "markdown",
   "metadata": {},
   "source": [
    "### 7- Write a Python program to calculate the below series:\n",
    "\n",
    "$$\n",
    "S = \\frac{1}{2^0}+\\frac{1}{2^1}+\\frac{1}{2^2}+\\dotsm+\\frac{1}{2^n}\n",
    "$$\n",
    "\n",
    "- Get the value of n from the user"
   ]
  },
  {
   "cell_type": "code",
   "execution_count": 11,
   "metadata": {},
   "outputs": [
    {
     "name": "stdout",
     "output_type": "stream",
     "text": [
      "Enter value of n=5\n",
      "Sum of series=1.96875\n"
     ]
    }
   ],
   "source": [
    "n=int(input(\"Enter value of n=\"))\n",
    "sum=0\n",
    "for i in range(n+1):\n",
    "    sum+=(1/(2**i))\n",
    "print(\"Sum of series={}\".format(sum))"
   ]
  },
  {
   "cell_type": "markdown",
   "metadata": {},
   "source": [
    "### 8- Write a Python program to calculate the below series:\n",
    "\n",
    "$$\n",
    "S = \\frac{1}{2^0}-\\frac{1}{2^1}+\\frac{1}{2^2}-\\dotsm\\pm\\frac{1}{2^n}\n",
    "$$"
   ]
  },
  {
   "cell_type": "code",
   "execution_count": 12,
   "metadata": {},
   "outputs": [
    {
     "name": "stdout",
     "output_type": "stream",
     "text": [
      "Enter value of n=6\n",
      "Sum of series=0.671875\n"
     ]
    }
   ],
   "source": [
    "n=int(input(\"Enter value of n=\"))\n",
    "sum_even = 0\n",
    "sum_odd = 0\n",
    "\n",
    "for i in range(n+1):\n",
    "    if(i%2==0):\n",
    "        sum_even+=(1/(2**i))\n",
    "    else:\n",
    "        sum_odd-=(1/(2**i))\n",
    "print(\"Sum of series={}\".format(sum_even + sum_odd)) "
   ]
  },
  {
   "cell_type": "markdown",
   "metadata": {},
   "source": [
    "### 9- Write a program to find factorial of a number:\n",
    "The factorial of a positive integer n is equal to:\n",
    "$$ \n",
    "n!=1\\times 2 \\times 3 \\times 4\\dotsm \\times n.\n",
    "$$\n",
    "\n",
    "Hint: The factorial of a negative number doesn't exist. And, the factorial of 0 is 1, 0! = 1"
   ]
  },
  {
   "cell_type": "code",
   "execution_count": 13,
   "metadata": {},
   "outputs": [
    {
     "name": "stdout",
     "output_type": "stream",
     "text": [
      "Enter number= 5\n",
      "5!=120\n"
     ]
    }
   ],
   "source": [
    "n=abs(int(input(\"Enter number= \")))\n",
    "product = 1\n",
    "for i in range(1,n+1):\n",
    "    product = product*i\n",
    "print(\"{}!={}\".format(n,product))"
   ]
  },
  {
   "cell_type": "markdown",
   "metadata": {},
   "source": [
    "### 10- Write a program to generate the Fibonacci series less than a given number N.\n",
    "\n",
    "The Fibonacci numbers are the numbers in the following integer sequence.\n",
    "$$\n",
    "0, 1, 1, 2, 3, 5, 8, 13, 21, 34, 55, 89, 144,\\dotsm\n",
    "$$\n"
   ]
  },
  {
   "cell_type": "code",
   "execution_count": 14,
   "metadata": {},
   "outputs": [
    {
     "name": "stdout",
     "output_type": "stream",
     "text": [
      "Enter number=12\n",
      "Fibonacci series= 0 1 1 2 3 5 8 13 21 34 55 "
     ]
    }
   ],
   "source": [
    "n=int(input(\"Enter number=\"))\n",
    "first = 0\n",
    "sec = 1\n",
    "temp = 0\n",
    "count = 1\n",
    "print(\"Fibonacci series=\", end=\" \")\n",
    "\n",
    "while count < n:\n",
    "    print(temp, end=\" \")\n",
    "    count+=1\n",
    "    first = sec\n",
    "    sec = temp\n",
    "    temp = first + sec"
   ]
  }
 ],
 "metadata": {
  "kernelspec": {
   "display_name": "Python 3",
   "language": "python",
   "name": "python3"
  },
  "language_info": {
   "codemirror_mode": {
    "name": "ipython",
    "version": 3
   },
   "file_extension": ".py",
   "mimetype": "text/x-python",
   "name": "python",
   "nbconvert_exporter": "python",
   "pygments_lexer": "ipython3",
   "version": "3.8.3"
  }
 },
 "nbformat": 4,
 "nbformat_minor": 2
}
