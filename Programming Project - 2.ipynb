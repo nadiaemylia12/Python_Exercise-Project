{
 "cells": [
  {
   "cell_type": "markdown",
   "metadata": {},
   "source": [
    "# Project 2 - Password Generator"
   ]
  },
  {
   "cell_type": "code",
   "execution_count": 1,
   "metadata": {},
   "outputs": [
    {
     "name": "stdout",
     "output_type": "stream",
     "text": [
      "Length of password = 8\n",
      "Your password =  R[7,oo[o\n",
      "Valid Password\n"
     ]
    }
   ],
   "source": [
    "import random\n",
    "import string\n",
    "l, u, p, d = 0, 0, 0, 0\n",
    "\n",
    "while True:\n",
    "    length = int(input(\"Length of password = \"))\n",
    "    password = string.ascii_letters + string.digits + string.punctuation\n",
    "    result = ''.join(random.choice(password) for i in range(length))\n",
    "    print(\"Your password = \",result)\n",
    "\n",
    "    if (len(result) >= 8): \n",
    "        for i in result:   \n",
    "            if i in (string.ascii_lowercase): \n",
    "                l+=1            \n",
    "            if i in (string.ascii_uppercase): \n",
    "                u+=1            \n",
    "            if i in (string.digits): \n",
    "                d+=1             \n",
    "            if i in (string.punctuation): \n",
    "                p+=1           \n",
    "    if (l>=1 and u>=1 and p>=1 and d>=1 and l+p+u+d==len(result)):\n",
    "        print(\"Valid Password\")\n",
    "        break\n",
    "    else:\n",
    "        print(\"Invalid Password. Please try again\")\n",
    "        print()\n",
    "        pass"
   ]
  }
 ],
 "metadata": {
  "kernelspec": {
   "display_name": "Python 3",
   "language": "python",
   "name": "python3"
  },
  "language_info": {
   "codemirror_mode": {
    "name": "ipython",
    "version": 3
   },
   "file_extension": ".py",
   "mimetype": "text/x-python",
   "name": "python",
   "nbconvert_exporter": "python",
   "pygments_lexer": "ipython3",
   "version": "3.8.3"
  }
 },
 "nbformat": 4,
 "nbformat_minor": 4
}
