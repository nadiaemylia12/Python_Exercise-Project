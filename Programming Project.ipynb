{
 "cells": [
  {
   "cell_type": "markdown",
   "metadata": {},
   "source": [
    "# Project 1 - Health Screening Package"
   ]
  },
  {
   "cell_type": "code",
   "execution_count": 1,
   "metadata": {},
   "outputs": [],
   "source": [
    "import pandas as pd\n",
    "from IPython.display import display"
   ]
  },
  {
   "cell_type": "code",
   "execution_count": 2,
   "metadata": {},
   "outputs": [
    {
     "data": {
      "text/html": [
       "<div>\n",
       "<style scoped>\n",
       "    .dataframe tbody tr th:only-of-type {\n",
       "        vertical-align: middle;\n",
       "    }\n",
       "\n",
       "    .dataframe tbody tr th {\n",
       "        vertical-align: top;\n",
       "    }\n",
       "\n",
       "    .dataframe thead th {\n",
       "        text-align: right;\n",
       "    }\n",
       "</style>\n",
       "<table border=\"1\" class=\"dataframe\">\n",
       "  <thead>\n",
       "    <tr style=\"text-align: right;\">\n",
       "      <th></th>\n",
       "      <th>Health screening package</th>\n",
       "      <th>Gender</th>\n",
       "      <th>Age</th>\n",
       "      <th>Price (RM)</th>\n",
       "      <th>Discount (%)</th>\n",
       "    </tr>\n",
       "  </thead>\n",
       "  <tbody>\n",
       "    <tr>\n",
       "      <th>0</th>\n",
       "      <td>Basic</td>\n",
       "      <td>Men</td>\n",
       "      <td>All ages</td>\n",
       "      <td>450</td>\n",
       "      <td>5</td>\n",
       "    </tr>\n",
       "    <tr>\n",
       "      <th>1</th>\n",
       "      <td>Basic</td>\n",
       "      <td>Women</td>\n",
       "      <td>Less than or equal to 40</td>\n",
       "      <td>500</td>\n",
       "      <td>5</td>\n",
       "    </tr>\n",
       "    <tr>\n",
       "      <th>2</th>\n",
       "      <td>Basic</td>\n",
       "      <td>Women</td>\n",
       "      <td>More than 40</td>\n",
       "      <td>650</td>\n",
       "      <td>5</td>\n",
       "    </tr>\n",
       "    <tr>\n",
       "      <th>3</th>\n",
       "      <td>Complete</td>\n",
       "      <td>Men</td>\n",
       "      <td>All ages</td>\n",
       "      <td>950</td>\n",
       "      <td>10</td>\n",
       "    </tr>\n",
       "    <tr>\n",
       "      <th>4</th>\n",
       "      <td>Complete</td>\n",
       "      <td>Women</td>\n",
       "      <td>All ages</td>\n",
       "      <td>1100</td>\n",
       "      <td>10</td>\n",
       "    </tr>\n",
       "  </tbody>\n",
       "</table>\n",
       "</div>"
      ],
      "text/plain": [
       "  Health screening package Gender                       Age  Price (RM)  \\\n",
       "0                    Basic    Men                  All ages         450   \n",
       "1                    Basic  Women  Less than or equal to 40         500   \n",
       "2                    Basic  Women              More than 40         650   \n",
       "3                 Complete    Men                  All ages         950   \n",
       "4                 Complete  Women                  All ages        1100   \n",
       "\n",
       "   Discount (%)  \n",
       "0             5  \n",
       "1             5  \n",
       "2             5  \n",
       "3            10  \n",
       "4            10  "
      ]
     },
     "execution_count": 2,
     "metadata": {},
     "output_type": "execute_result"
    }
   ],
   "source": [
    "health_screening_package = pd.read_csv(\"data/health.csv\")\n",
    "health_screening_package"
   ]
  },
  {
   "cell_type": "code",
   "execution_count": 3,
   "metadata": {},
   "outputs": [
    {
     "name": "stdout",
     "output_type": "stream",
     "text": [
      "Enter your gender = men\n",
      "Enter your age = 34\n",
      "Enter your health screening package = basic\n",
      "\n",
      "\n",
      "Health screening package = basic\n",
      "Gender = men\n",
      "Age = 34\n",
      "Net price = RM 427.50\n"
     ]
    }
   ],
   "source": [
    "gender = input(\"Enter your gender = \").lower()\n",
    "age = int(input(\"Enter your age = \"))\n",
    "health_screen_package = input(\"Enter your health screening package = \").lower()\n",
    "print('\\n')\n",
    "if health_screen_package == 'basic':\n",
    "    if gender == 'men':\n",
    "        price = 450\n",
    "        discount = 5/100\n",
    "        net_price = price - (discount * price)\n",
    "        print(\"Health screening package = {}\".format(health_screen_package))\n",
    "        print(\"Gender = {}\".format(gender))\n",
    "        print(\"Age = {}\".format(age))\n",
    "        print(\"Net price = RM {:.2f}\".format(net_price))\n",
    "    elif gender == 'women':\n",
    "        if age > 40:\n",
    "            price = 650\n",
    "            discount = 5/100\n",
    "            net_price = price - (discount * price)\n",
    "            print(\"Health screening package = {}\".format(health_screen_package))\n",
    "            print(\"Gender = {}\".format(gender))\n",
    "            print(\"Age = {}\".format(age))\n",
    "            print(\"Net price = RM {:.2f}\".format(net_price))\n",
    "        elif age <= 40:\n",
    "            price = 500\n",
    "            discount = 5/100\n",
    "            net_price = price - (discount * price)\n",
    "            print(\"Health screening package = {}\".format(health_screen_package))\n",
    "            print(\"Gender = {}\".format(gender))\n",
    "            print(\"Age = {}\".format(age))\n",
    "            print(\"Net price = RM {:.2f}\".format(net_price))\n",
    "elif health_screen_package == 'complete': \n",
    "    if gender == 'men':\n",
    "        price = 950\n",
    "        discount = 10/100\n",
    "        net_price = price - (discount * price)\n",
    "        print(\"Health screening package = {}\".format(health_screen_package))\n",
    "        print(\"Gender = {}\".format(gender))\n",
    "        print(\"Age = {}\".format(age))\n",
    "        print(\"Net price = RM {:.2f}\".format(net_price))\n",
    "    elif gender == 'women':\n",
    "        price = 1100\n",
    "        discount = 10/100\n",
    "        net_price = price - (discount * price)\n",
    "        print(\"Health screening package = {}\".format(health_screen_package))\n",
    "        print(\"Gender = {}\".format(gender))\n",
    "        print(\"Age = {}\".format(age))\n",
    "        print(\"Net price = RM {:.2f}\".format(net_price))\n",
    "else:\n",
    "    print(\"Invalid health screening package\")"
   ]
  }
 ],
 "metadata": {
  "kernelspec": {
   "display_name": "Python 3",
   "language": "python",
   "name": "python3"
  },
  "language_info": {
   "codemirror_mode": {
    "name": "ipython",
    "version": 3
   },
   "file_extension": ".py",
   "mimetype": "text/x-python",
   "name": "python",
   "nbconvert_exporter": "python",
   "pygments_lexer": "ipython3",
   "version": "3.8.3"
  }
 },
 "nbformat": 4,
 "nbformat_minor": 4
}
