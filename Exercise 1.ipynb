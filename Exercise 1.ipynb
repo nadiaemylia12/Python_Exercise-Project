{
 "cells": [
  {
   "cell_type": "markdown",
   "metadata": {},
   "source": [
    "## Exercise 1"
   ]
  },
  {
   "cell_type": "markdown",
   "metadata": {},
   "source": [
    "### 1-Write a Python program that inputs a series of 10 positive numbers and displays maximum and minimum values.\n",
    "### For example, the output looks like this:\n",
    "```\n",
    "Enter 1st number:5\n",
    "Enter 2nd number:13\n",
    "Enter 3rd number:9\n",
    "Enter 4th number:10\n",
    "Enter 5th number:15\n",
    "Maximum=15 and Minimum=5.\n",
    "```"
   ]
  },
  {
   "cell_type": "code",
   "execution_count": 1,
   "metadata": {},
   "outputs": [
    {
     "name": "stdout",
     "output_type": "stream",
     "text": [
      "Enter 1st number:3\n",
      "Enter 2nd number:4\n",
      "Enter 3rd number:6\n",
      "Enter 4th number : 12\n",
      "Enter 5th number : 8\n",
      "Enter 6th number : 6\n",
      "Enter 7th number : 11\n",
      "Enter 8th number : 1\n",
      "Enter 9th number : 9\n",
      "Enter 10th number : 12\n",
      "Maximum=12 and Minimum=1\n"
     ]
    }
   ],
   "source": [
    "lis = []\n",
    "number = 11\n",
    "\n",
    "for i in range(1,number):\n",
    "    if i == 1:\n",
    "        num = abs(int(input(\"Enter 1st number:\")))\n",
    "        lis.append(num)\n",
    "    elif i == 2:\n",
    "        num = abs(int(input(\"Enter 2nd number:\")))\n",
    "        lis.append(num)\n",
    "    elif i == 3:\n",
    "        num = abs(int(input(\"Enter 3rd number:\")))\n",
    "        lis.append(num)\n",
    "    else:\n",
    "        num = abs(int(input(\"Enter {}th number : \".format(i))))\n",
    "        lis.append(num)\n",
    "        \n",
    "max_value = lis[0]\n",
    "min_value = lis[0]\n",
    "for i in lis:\n",
    "    if i > max_value:\n",
    "        max_value = i\n",
    "    elif i < min_value:\n",
    "        min_value = i\n",
    "print(\"Maximum={} and Minimum={}\".format(max_value,min_value))"
   ]
  },
  {
   "cell_type": "markdown",
   "metadata": {},
   "source": [
    "### 2- write a program to print out a 10x10 multiplication table."
   ]
  },
  {
   "cell_type": "code",
   "execution_count": 2,
   "metadata": {},
   "outputs": [
    {
     "name": "stdout",
     "output_type": "stream",
     "text": [
      "1\t2\t3\t4\t5\t6\t7\t8\t9\t10\t\n",
      "2\t4\t6\t8\t10\t12\t14\t16\t18\t20\t\n",
      "3\t6\t9\t12\t15\t18\t21\t24\t27\t30\t\n",
      "4\t8\t12\t16\t20\t24\t28\t32\t36\t40\t\n",
      "5\t10\t15\t20\t25\t30\t35\t40\t45\t50\t\n",
      "6\t12\t18\t24\t30\t36\t42\t48\t54\t60\t\n",
      "7\t14\t21\t28\t35\t42\t49\t56\t63\t70\t\n",
      "8\t16\t24\t32\t40\t48\t56\t64\t72\t80\t\n",
      "9\t18\t27\t36\t45\t54\t63\t72\t81\t90\t\n",
      "10\t20\t30\t40\t50\t60\t70\t80\t90\t100\t\n"
     ]
    }
   ],
   "source": [
    "for i in range(1,11):\n",
    "    for j in range(1,11):\n",
    "        print(i*j, end=\"\\t\")\n",
    "    print()"
   ]
  },
  {
   "cell_type": "markdown",
   "metadata": {},
   "source": [
    "### 3- Write a program to display this output on the screen:\n",
    "```\n",
    "1 \n",
    "1 2 \n",
    "1 2 3 \n",
    "1 2 3 4 \n",
    "1 2 3 4 5 \n",
    "1 2 3 4 5 6 \n",
    "1 2 3 4 5 6 7 \n",
    "1 2 3 4 5 6 7 8 \n",
    "1 2 3 4 5 6 7 8 9 \n",
    "```"
   ]
  },
  {
   "cell_type": "code",
   "execution_count": 3,
   "metadata": {},
   "outputs": [
    {
     "name": "stdout",
     "output_type": "stream",
     "text": [
      "1 \n",
      "1 2 \n",
      "1 2 3 \n",
      "1 2 3 4 \n",
      "1 2 3 4 5 \n",
      "1 2 3 4 5 6 \n",
      "1 2 3 4 5 6 7 \n",
      "1 2 3 4 5 6 7 8 \n",
      "1 2 3 4 5 6 7 8 9 \n"
     ]
    }
   ],
   "source": [
    "for i in range(1,10):\n",
    "    for j in range(1,i+1):\n",
    "        print(j, end=\" \")\n",
    "    print()"
   ]
  },
  {
   "cell_type": "markdown",
   "metadata": {},
   "source": [
    "### 4- Write a program to display this output on the screen:\n",
    "```\n",
    "9 8 7 6 5 4 3 2 1 \n",
    "8 7 6 5 4 3 2 1 \n",
    "7 6 5 4 3 2 1 \n",
    "6 5 4 3 2 1 \n",
    "5 4 3 2 1 \n",
    "4 3 2 1 \n",
    "3 2 1 \n",
    "2 1 \n",
    "1  \n",
    "```"
   ]
  },
  {
   "cell_type": "code",
   "execution_count": 4,
   "metadata": {},
   "outputs": [
    {
     "name": "stdout",
     "output_type": "stream",
     "text": [
      "9 8 7 6 5 4 3 2 1 \n",
      "8 7 6 5 4 3 2 1 \n",
      "7 6 5 4 3 2 1 \n",
      "6 5 4 3 2 1 \n",
      "5 4 3 2 1 \n",
      "4 3 2 1 \n",
      "3 2 1 \n",
      "2 1 \n",
      "1 \n"
     ]
    }
   ],
   "source": [
    "for i in range(9,0,-1):\n",
    "    for j in range(i,0,-1):\n",
    "        print(j, end=\" \")\n",
    "    print()"
   ]
  },
  {
   "cell_type": "markdown",
   "metadata": {},
   "source": [
    "### 5- Write a program to display this output on the screen:\n",
    "```\n",
    "9 \n",
    "9 8 \n",
    "9 8 7 \n",
    "9 8 7 6 \n",
    "9 8 7 6 5 \n",
    "9 8 7 6 5 4 \n",
    "9 8 7 6 5 4 3 \n",
    "9 8 7 6 5 4 3 2 \n",
    "9 8 7 6 5 4 3 2 1\n",
    "```"
   ]
  },
  {
   "cell_type": "code",
   "execution_count": 5,
   "metadata": {},
   "outputs": [
    {
     "name": "stdout",
     "output_type": "stream",
     "text": [
      "9 \n",
      "9 8 \n",
      "9 8 7 \n",
      "9 8 7 6 \n",
      "9 8 7 6 5 \n",
      "9 8 7 6 5 4 \n",
      "9 8 7 6 5 4 3 \n",
      "9 8 7 6 5 4 3 2 \n",
      "9 8 7 6 5 4 3 2 1 \n"
     ]
    }
   ],
   "source": [
    "for i in range(1,10):\n",
    "    for j in range(9,9-i,-1):\n",
    "        print(j, end=\" \")\n",
    "    print()"
   ]
  }
 ],
 "metadata": {
  "kernelspec": {
   "display_name": "Python 3",
   "language": "python",
   "name": "python3"
  },
  "language_info": {
   "codemirror_mode": {
    "name": "ipython",
    "version": 3
   },
   "file_extension": ".py",
   "mimetype": "text/x-python",
   "name": "python",
   "nbconvert_exporter": "python",
   "pygments_lexer": "ipython3",
   "version": "3.8.3"
  }
 },
 "nbformat": 4,
 "nbformat_minor": 2
}
